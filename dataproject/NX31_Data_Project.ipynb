{
 "cells": [
  {
   "cell_type": "markdown",
   "metadata": {},
   "source": [
    "# NX31 - Data Project"
   ]
  },
  {
   "cell_type": "markdown",
   "metadata": {},
   "source": [
    "### Introduction\n",
    "\n",
    "In the following data project, we  will be analyzing the public sector's distribution of workforce and compare it to the privat sector's. <br />\n",
    "We will look into if the distribution of work force has changed since the financial crisis in 2008.\n",
    "\n",
    "During the analysis, we will be doing the following.\n",
    "* Etablish an API connection to feed the analysis data, from an external source.\n",
    "* Clean and structure this data.\n",
    "* Plot the data.\n",
    "* Make an analysis and compare with the private sector.\n"
   ]
  },
  {
   "cell_type": "markdown",
   "metadata": {},
   "source": [
    "### Packages imported\n",
    "\n",
    "We will load in the following packages for this data project."
   ]
  },
  {
   "cell_type": "code",
   "execution_count": 1,
   "metadata": {},
   "outputs": [],
   "source": [
    "%load_ext autoreload\n",
    "%autoreload 2\n",
    "\n",
    "#these two lines above makes sure that the modules are automatically reloaded each time we run a cell"
   ]
  },
  {
   "cell_type": "code",
   "execution_count": 2,
   "metadata": {},
   "outputs": [],
   "source": [
    "import numpy as np # Imports the numpy package\n",
    "import matplotlib.pyplot as plt # Imports the matplotlib package from pyplot \n",
    "import pandas as pd # Imports the pandas dataframe package\n",
    "import pydst # Imports the PyDST package"
   ]
  },
  {
   "cell_type": "markdown",
   "metadata": {},
   "source": [
    "### Data\n",
    "\n",
    "We have choose to use the PyDST package that can load data from Statistics Denmark using an API call. We put in the table id, that we want data from, and the package then returns the data from Statistics Denmark. </br>\n",
    "We start off by looking into, what variables that are present in the table. We use this information when we load in the data, to only get the data we want. "
   ]
  },
  {
   "cell_type": "code",
   "execution_count": 3,
   "metadata": {},
   "outputs": [
    {
     "data": {
      "text/html": [
       "<div>\n",
       "<style scoped>\n",
       "    .dataframe tbody tr th:only-of-type {\n",
       "        vertical-align: middle;\n",
       "    }\n",
       "\n",
       "    .dataframe tbody tr th {\n",
       "        vertical-align: top;\n",
       "    }\n",
       "\n",
       "    .dataframe thead th {\n",
       "        text-align: right;\n",
       "    }\n",
       "</style>\n",
       "<table border=\"1\" class=\"dataframe\">\n",
       "  <thead>\n",
       "    <tr style=\"text-align: right;\">\n",
       "      <th></th>\n",
       "      <th>elimination</th>\n",
       "      <th>id</th>\n",
       "      <th>text</th>\n",
       "      <th>time</th>\n",
       "      <th>values</th>\n",
       "    </tr>\n",
       "  </thead>\n",
       "  <tbody>\n",
       "    <tr>\n",
       "      <th>0</th>\n",
       "      <td>True</td>\n",
       "      <td>SEKTOR</td>\n",
       "      <td>sector</td>\n",
       "      <td>False</td>\n",
       "      <td>[{'id': '1032', 'text': 'General government'},...</td>\n",
       "    </tr>\n",
       "    <tr>\n",
       "      <th>1</th>\n",
       "      <td>False</td>\n",
       "      <td>Tid</td>\n",
       "      <td>time</td>\n",
       "      <td>True</td>\n",
       "      <td>[{'id': '2008K1', 'text': '2008Q1'}, {'id': '2...</td>\n",
       "    </tr>\n",
       "  </tbody>\n",
       "</table>\n",
       "</div>"
      ],
      "text/plain": [
       "   elimination      id    text   time  \\\n",
       "0         True  SEKTOR  sector  False   \n",
       "1        False     Tid    time   True   \n",
       "\n",
       "                                              values  \n",
       "0  [{'id': '1032', 'text': 'General government'},...  \n",
       "1  [{'id': '2008K1', 'text': '2008Q1'}, {'id': '2...  "
      ]
     },
     "execution_count": 3,
     "metadata": {},
     "output_type": "execute_result"
    }
   ],
   "source": [
    "dst = pydst.Dst(lang='en') # creates a variable that sets the pydst package to load data variables in english.\n",
    "\n",
    "FTEG_variables = dst.get_variables(table_id = 'OBESK2') #creates a variable that contains the variables from the table we look at\n",
    "FTEG_variables # shows the variable"
   ]
  },
  {
   "cell_type": "code",
   "execution_count": 4,
   "metadata": {},
   "outputs": [
    {
     "data": {
      "text/plain": [
       "[{'id': '1032', 'text': 'General government'},\n",
       " {'id': '1015', 'text': 'Central government'},\n",
       " {'id': '1020', 'text': 'Regional government'},\n",
       " {'id': '1025', 'text': 'Municipal government'},\n",
       " {'id': '1030', 'text': 'Social security funds'}]"
      ]
     },
     "execution_count": 4,
     "metadata": {},
     "output_type": "execute_result"
    }
   ],
   "source": [
    "FTEG_variables['values'][0][:5] # shows the sectors in the table"
   ]
  },
  {
   "cell_type": "markdown",
   "metadata": {},
   "source": [
    "### Creating Dictionaires\n",
    "\n",
    "We create the following dictionaries to better structure the data and to create shorter or more precise variable names. </br>\n",
    "We again use the variable names from above to make this dictionaires."
   ]
  },
  {
   "cell_type": "code",
   "execution_count": 5,
   "metadata": {},
   "outputs": [],
   "source": [
    "columns_dict = {} # creates a empty dictionairy, we fills the dictionary with keys and corosponding values.\n",
    "# We use the variables seen earlier.\n",
    "columns_dict['SEKTOR'] = 'Sector' \n",
    "columns_dict['TID'] = 'Quarter'\n",
    "columns_dict['INDHOLD'] = 'FTE'\n",
    "\n",
    "var_dict = {} # creates a empty dictionairy, we fills the dictionary with keys and corosponding values.\n",
    "# We use the values seen earlier.\n",
    "var_dict['Central government'] = 'Central'\n",
    "var_dict['Regional government'] = 'Regional'\n",
    "var_dict['Municipal government'] = 'Municipal'\n",
    "var_dict['Social security funds'] = 'Social security funds'\n",
    "var_dict['General government'] = 'Total'"
   ]
  },
  {
   "cell_type": "markdown",
   "metadata": {},
   "source": [
    "### Importing Data\n",
    "\n",
    "We now import data from Statistic Denmark using the PyDST. We use the variables we found above, so we only get the data that we need.\n",
    "In this case we need all data from the table."
   ]
  },
  {
   "cell_type": "code",
   "execution_count": null,
   "metadata": {},
   "outputs": [],
   "source": [
    "FTEG_raw = dst.get_data(table_id = 'OBESK2', variables = {'SEKTOR':['*'], 'Tid':['*']})\n",
    "# Creates a variable that contains data from the table we put in.\n",
    "FTEG_raw.head(20) #shows the first 20 data points in the table."
   ]
  },
  {
   "cell_type": "markdown",
   "metadata": {},
   "source": [
    "### Renaming variables\n",
    "We use the dictionaries to rename the variables names."
   ]
  },
  {
   "cell_type": "code",
   "execution_count": null,
   "metadata": {},
   "outputs": [],
   "source": [
    "FTEG_raw.rename(columns = columns_dict, inplace = True) # renames the columns, using the keys,\n",
    "# which are the current columns names, and use the values in the dictionary instead\n",
    "\n",
    "for key, value in var_dict.items():\n",
    "    FTEG_raw.Sector.replace(key, value, inplace = True) # runs a for loop to replace the variable names,\n",
    "    # matching the keys and values from the var_dict\n",
    "\n",
    "FTEG_raw.head(20)"
   ]
  },
  {
   "cell_type": "markdown",
   "metadata": {},
   "source": [
    "### Table\n",
    "\n",
    "We create this table to give a better view of the data, with the quaters as index."
   ]
  },
  {
   "cell_type": "code",
   "execution_count": null,
   "metadata": {},
   "outputs": [],
   "source": [
    "FTEG = FTEG_raw.copy().pivot(index = 'Quarter', columns = 'Sector', values = 'FTE')\n",
    "# creates a copy and pivot the data using the 'Quarter' as the index.\n",
    "FTEG.head(20)"
   ]
  },
  {
   "cell_type": "markdown",
   "metadata": {},
   "source": [
    "### Descirbetive statistics\n",
    "\n"
   ]
  },
  {
   "cell_type": "code",
   "execution_count": null,
   "metadata": {},
   "outputs": [],
   "source": [
    "FTEG_raw.groupby(['Sector']).describe() # Gives a table of decribtive statistics for analysis.\n",
    "# Showing the mean, the std., the minimum, the quartiles and the maximum"
   ]
  },
  {
   "cell_type": "markdown",
   "metadata": {},
   "source": [
    "### Plot of public sectors"
   ]
  },
  {
   "cell_type": "code",
   "execution_count": null,
   "metadata": {},
   "outputs": [],
   "source": [
    "fig1, ax = plt.subplots(figsize=(14,14)) #creates a figure with only one subplot\n",
    "FTEG_raw['Quarter'] = pd.to_datetime(FTEG_raw['Quarter']) # changes variable Quaters to a time format\n",
    "# that pandas recognizes\n",
    "FTEG_raw.set_index('Quarter').groupby('Sector')['FTE'].plot(x=\"Quarter\", legend=True, ax=ax);\n",
    "# sets index to new Quaters and plots the sectors values on y-axis\n",
    "ax.set_ylabel(\"Full-time employed\") # sets title for y-axis\n",
    "ax.set_xlabel('Quaters') # sets title for x-axis\n",
    "ax.set_title(\"Public full-time employed\") # sets title for the figure"
   ]
  },
  {
   "cell_type": "markdown",
   "metadata": {},
   "source": [
    "Looking at the plot, it seems the development for total public employment is primarily is driven by changes in the municipalities. To confirm we will have to look at he relative changes."
   ]
  },
  {
   "cell_type": "markdown",
   "metadata": {},
   "source": [
    "### Relative changes and merging"
   ]
  },
  {
   "cell_type": "markdown",
   "metadata": {},
   "source": [
    "Now we will look at the relative development of each sector.\n",
    "We create four dataframes, one for each sector, where we devide the specific sector with the total public employment."
   ]
  },
  {
   "cell_type": "code",
   "execution_count": null,
   "metadata": {},
   "outputs": [],
   "source": [
    "rc_central = pd.DataFrame(data=FTEG['Central']/FTEG['Total']*100)\n",
    "rc_municipal = pd.DataFrame(FTEG['Municipal']/FTEG['Total']*100)\n",
    "rc_regional = pd.DataFrame(FTEG['Regional']/FTEG['Total']*100)\n",
    "rc_social = pd.DataFrame(FTEG['Social security funds']/FTEG['Total']*100)\n",
    "# the four lines of code above creates a pandas dataframe for the relative development,\n",
    "# and we multiply the 100 to get our result in percentage."
   ]
  },
  {
   "cell_type": "markdown",
   "metadata": {},
   "source": [
    "In order to plot the relative development later, we need to merge the four dataframes into one. We do this in the following code."
   ]
  },
  {
   "cell_type": "code",
   "execution_count": null,
   "metadata": {},
   "outputs": [],
   "source": [
    "rFTEG_1 = pd.merge(rc_central, rc_municipal, on='Quarter') # merging the dataframe for relative central and\n",
    "# municipalty development changes, and thereby creating a new dataframe contianing relative central and\n",
    "# municipalty development changes\n",
    "rFTEG_2 = pd.merge(rFTEG_1, rc_regional, on='Quarter') # we merge the new dataframe with the datafram for\n",
    "# relative regionale development changes\n",
    "rFTEG = pd.merge(rFTEG_2, rc_social, on='Quarter') # and again with social\n",
    "\n",
    "rFTEG.head(20) # we plot our new dataframe, but observe that the variable names are not correct,\n",
    "# we will solve this in the following code"
   ]
  },
  {
   "cell_type": "markdown",
   "metadata": {},
   "source": [
    "### Renaming\n"
   ]
  },
  {
   "cell_type": "markdown",
   "metadata": {},
   "source": [
    "We rename the colums for our new dataframe with relative development."
   ]
  },
  {
   "cell_type": "code",
   "execution_count": null,
   "metadata": {},
   "outputs": [],
   "source": [
    "rFTEG.columns = ['Central', 'Municipal', 'Regional', 'Social']\n",
    "\n",
    "rFTEG.head(20)"
   ]
  },
  {
   "cell_type": "markdown",
   "metadata": {},
   "source": [
    "The following code needs to be run twice in order to get the quarters to show correctly, we are not sure why."
   ]
  },
  {
   "cell_type": "code",
   "execution_count": null,
   "metadata": {},
   "outputs": [],
   "source": [
    "fig2, ax = plt.subplots(figsize=(14,14))\n",
    "rFTEG.plot(legend=True, ax=ax);\n",
    "\n",
    "rFTEG.reset_index(drop=True)\n",
    "FTEG_raw.set_index('Quarter')\n",
    "rFTEG.index = pd.DatetimeIndex(data=rFTEG.index)\n",
    "\n",
    "ax.set_xlabel(\"Quarters\")\n",
    "ax.set_ylabel(\"Percent\")\n",
    "ax.set_title(\"Share of total public employment\")\n",
    "\n",
    "# move the legend, put numbers on the x-axis, maybe \"\"%\"\" on y-axis\n"
   ]
  },
  {
   "cell_type": "markdown",
   "metadata": {},
   "source": [
    "### Interactive Figure for relative development - \"return !!\""
   ]
  },
  {
   "cell_type": "code",
   "execution_count": null,
   "metadata": {},
   "outputs": [],
   "source": [
    "import ipywidgets as widgets # imports the widget for interactive figures\n",
    "\n",
    "list(rFTEG.columns.values)"
   ]
  },
  {
   "cell_type": "code",
   "execution_count": null,
   "metadata": {},
   "outputs": [],
   "source": [
    "# rFTEG = rFTEG.reset_index()\n",
    "# list(rFTEG.columns.values)"
   ]
  },
  {
   "cell_type": "code",
   "execution_count": null,
   "metadata": {},
   "outputs": [],
   "source": [
    "# def plot_e(dataframe, Central):\n",
    "#     I = rFTEG['Central'] == Central\n",
    "#     \n",
    "#     ax = dataframe.loc[I,:].plot()\n",
    "# \n",
    "# widgets.interact(plot_e, \n",
    "#                  dataframe = widgets.fixed(rFTEG),\n",
    "#                  Central = widgets.Dropdown(description='Sector', option=rFTEG.columns.unique())\n",
    "#                 );"
   ]
  },
  {
   "cell_type": "markdown",
   "metadata": {},
   "source": [
    "### New data\n",
    "\n",
    "To compare the public employment to that of the private sector, we need data for the private sector. We have found a table that has this, and will now do the same precedings as we did with the data for the public sector."
   ]
  },
  {
   "cell_type": "code",
   "execution_count": null,
   "metadata": {},
   "outputs": [],
   "source": [
    "pr_variables = dst.get_variables(table_id = 'LBESK21')\n",
    "pr_variables"
   ]
  },
  {
   "cell_type": "markdown",
   "metadata": {},
   "source": [
    "### Dictionaries"
   ]
  },
  {
   "cell_type": "code",
   "execution_count": null,
   "metadata": {},
   "outputs": [],
   "source": [
    "columns_dict3 = {}\n",
    "columns_dict3['TAL'] = 'remove one of them? - lønmodtagere'\n",
    "columns_dict3['SEKTOR'] = 'Sector'\n",
    "columns_dict3['TID'] = 'Quarter'\n",
    "columns_dict3['INDHOLD'] = 'FTE'\n",
    "\n",
    "var_dict2 = {}\n",
    "var_dict2['All sectors'] = 'Total'\n",
    "var_dict2['Central government'] = 'Central'\n",
    "var_dict2['Regional government'] = 'Regional'\n",
    "var_dict2['Municipal government'] = 'Municipal'\n",
    "var_dict2['Social security funds'] = 'Social'\n",
    "var_dict2['Public corporations'] = 'Public corp'\n",
    "var_dict2['Private corporations'] = 'Private corp'\n",
    "var_dict2['Private nonprofit organizations'] = 'Private NPO'\n",
    "var_dict2['Sector not stated'] = 'SNS'"
   ]
  },
  {
   "cell_type": "markdown",
   "metadata": {},
   "source": [
    "\"get data\""
   ]
  },
  {
   "cell_type": "code",
   "execution_count": null,
   "metadata": {},
   "outputs": [],
   "source": [
    "EM_raw = dst.get_data(table_id = 'LBESK21', variables = {'TAL':['*'], 'SEKTOR':['*'], 'Tid':['*']})\n",
    "EM_raw"
   ]
  },
  {
   "cell_type": "markdown",
   "metadata": {},
   "source": [
    "\"rename\""
   ]
  },
  {
   "cell_type": "code",
   "execution_count": null,
   "metadata": {},
   "outputs": [],
   "source": [
    "EM_raw.rename(columns = columns_dict3, inplace = True)\n",
    "\n",
    "for key, value in var_dict2.items():\n",
    "    EM_raw.Sector.replace(key, value, inplace = True)\n",
    "\n",
    "EM_raw"
   ]
  },
  {
   "cell_type": "markdown",
   "metadata": {},
   "source": [
    "\"describe\""
   ]
  },
  {
   "cell_type": "code",
   "execution_count": null,
   "metadata": {},
   "outputs": [],
   "source": [
    "EM_raw.groupby(['Sector']).describe()"
   ]
  },
  {
   "cell_type": "markdown",
   "metadata": {},
   "source": [
    "\"compare public and private to total employment\""
   ]
  },
  {
   "cell_type": "code",
   "execution_count": null,
   "metadata": {},
   "outputs": [],
   "source": []
  },
  {
   "cell_type": "markdown",
   "metadata": {},
   "source": [
    "\"\" skriv altid slut kommentar så vi ved hvor vi er og om det er den rigtige\"\"\n"
   ]
  }
 ],
 "metadata": {
  "kernelspec": {
   "display_name": "Python 3",
   "language": "python",
   "name": "python3"
  },
  "language_info": {
   "codemirror_mode": {
    "name": "ipython",
    "version": 3
   },
   "file_extension": ".py",
   "mimetype": "text/x-python",
   "name": "python",
   "nbconvert_exporter": "python",
   "pygments_lexer": "ipython3",
   "version": "3.6.8"
  }
 },
 "nbformat": 4,
 "nbformat_minor": 2
}
